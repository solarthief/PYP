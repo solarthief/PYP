{
 "cells": [
  {
   "cell_type": "code",
   "execution_count": 36,
   "metadata": {
    "collapsed": true
   },
   "outputs": [],
   "source": [
    "from pandas import DataFrame, Series \n",
    "import pandas as pd\n",
    "import numpy as np\n",
    "import matplotlib\n",
    "import sklearn.model_selection\n",
    "import sklearn.neighbors\n",
    "import sklearn.preprocessing\n",
    "import sklearn.datasets\n",
    "import sklearn.linear_model\n",
    "import sklearn.metrics\n",
    "from sklearn.preprocessing import StandardScaler"
   ]
  },
  {
   "cell_type": "code",
   "execution_count": 37,
   "metadata": {
    "collapsed": false
   },
   "outputs": [],
   "source": [
    "train_data=pd.read_csv('perceptron-train.csv', names=['Goal','Attr1','Attr2'])\n",
    "test_data=pd.read_csv('perceptron-test.csv', names=['Goal','Attr1','Attr2'])"
   ]
  },
  {
   "cell_type": "code",
   "execution_count": 38,
   "metadata": {
    "collapsed": false
   },
   "outputs": [],
   "source": [
    "X_tr=train_data[['Attr1','Attr2']]\n",
    "X_test=test_data[['Attr1','Attr2']]\n",
    "y_tr=train_data['Goal']\n",
    "y_test=test_data['Goal']\n",
    "clf=sklearn.linear_model.Perceptron(random_state=241)\n",
    "clf.fit(X_tr,y_tr)\n",
    "predictions=clf.predict(X_test)\n",
    "acc_score_unnorm=sklearn.metrics.accuracy_score(y_test,predictions)"
   ]
  },
  {
   "cell_type": "code",
   "execution_count": 39,
   "metadata": {
    "collapsed": false
   },
   "outputs": [],
   "source": [
    "scaler=StandardScaler()\n",
    "X_tr_sc=scaler.fit_transform(X_tr)\n",
    "X_test_sc=scaler.transform(X_test)\n",
    "clf.fit(X_tr_sc,y_tr)\n",
    "pred_sc=clf.predict(X_test_sc)\n",
    "acc_score_sc=sklearn.metrics.accuracy_score(y_test,pred_sc)"
   ]
  },
  {
   "cell_type": "code",
   "execution_count": 41,
   "metadata": {
    "collapsed": false
   },
   "outputs": [
    {
     "name": "stdout",
     "output_type": "stream",
     "text": [
      "0.19\n"
     ]
    }
   ],
   "source": [
    "print(acc_score_sc-acc_score_unnorm)"
   ]
  }
 ],
 "metadata": {
  "kernelspec": {
   "display_name": "Python 3",
   "language": "python",
   "name": "python3"
  },
  "language_info": {
   "codemirror_mode": {
    "name": "ipython",
    "version": 3
   },
   "file_extension": ".py",
   "mimetype": "text/x-python",
   "name": "python",
   "nbconvert_exporter": "python",
   "pygments_lexer": "ipython3",
   "version": "3.6.0"
  }
 },
 "nbformat": 4,
 "nbformat_minor": 2
}
