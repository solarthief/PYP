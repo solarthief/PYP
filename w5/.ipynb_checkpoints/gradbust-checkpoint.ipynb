{
 "cells": [
  {
   "cell_type": "code",
   "execution_count": 53,
   "metadata": {
    "collapsed": true
   },
   "outputs": [],
   "source": [
    "from pandas import DataFrame, Series \n",
    "import pandas as pd\n",
    "import numpy as np\n",
    "import matplotlib.pyplot\n",
    "import sklearn.ensemble\n",
    "import sklearn.model_selection\n",
    "import sklearn.metrics\n",
    "import math"
   ]
  },
  {
   "cell_type": "code",
   "execution_count": 3,
   "metadata": {
    "collapsed": false
   },
   "outputs": [],
   "source": [
    "data=pd.read_csv('gbm-data.csv')\n",
    "X=data.drop('Activity',axis=1)\n",
    "Y=data['Activity']"
   ]
  },
  {
   "cell_type": "code",
   "execution_count": 34,
   "metadata": {
    "collapsed": false
   },
   "outputs": [],
   "source": [
    "X_train, X_test, Y_train, Y_test = sklearn.model_selection.train_test_split(X, Y, test_size=0.8, random_state=241)\n",
    "sigmoid = lambda x: (1/(1 + math.exp(-x)))\n",
    "def log_loss_res(model, X, y):\n",
    "    results = []\n",
    "    for pred in model.staged_decision_function(X):\n",
    "        results.append(sklearn.metrics.log_loss(y, [sigmoid(y_pred) for y_pred in pred]))\n",
    "    return results"
   ]
  },
  {
   "cell_type": "code",
   "execution_count": 57,
   "metadata": {
    "collapsed": false
   },
   "outputs": [],
   "source": [
    "res=[]\n",
    "vf=[]\n",
    "learning_rates=[1, 0.5, 0.3, 0.2, 0.1] \n",
    "for i in learning_rates:\n",
    "    model=sklearn.ensemble.GradientBoostingClassifier(learning_rate=i,n_estimators=250, verbose=False, random_state=241)\n",
    "    model.fit(X_train,Y_train)\n",
    "    train_loss = log_loss_res(model, X_train, Y_train)\n",
    "    test_loss = log_loss_res(model, X_test, Y_test)\n",
    "    matplotlib.pyplot.figure()\n",
    "    matplotlib.pyplot.plot(train_loss, 'r', linewidth=2)\n",
    "    matplotlib.pyplot.plot(test_loss, 'b', linewidth=2)    \n",
    "    matplotlib.pyplot.legend(['train','test'])\n",
    "    matplotlib.pyplot.savefig('rate_' + str(i) + '.png')\n",
    "    res.append([i,min(test_loss),test_loss.index(min(test_loss))])"
   ]
  },
  {
   "cell_type": "code",
   "execution_count": 58,
   "metadata": {
    "collapsed": false
   },
   "outputs": [
    {
     "data": {
      "text/plain": [
       "[[1, 0.58229425942784763, 0],\n",
       " [0.5, 0.55820255231642613, 6],\n",
       " [0.3, 0.54231411100245541, 10],\n",
       " [0.2, 0.53109463759688502, 36],\n",
       " [0.1, 0.52692018722758438, 51]]"
      ]
     },
     "execution_count": 58,
     "metadata": {},
     "output_type": "execute_result"
    }
   ],
   "source": [
    "res"
   ]
  },
  {
   "cell_type": "code",
   "execution_count": 63,
   "metadata": {
    "collapsed": false
   },
   "outputs": [
    {
     "name": "stdout",
     "output_type": "stream",
     "text": [
      "Min log_loss: 0.54;\n"
     ]
    }
   ],
   "source": [
    "forests=sklearn.ensemble.RandomForestClassifier(n_estimators=36,random_state=241)\n",
    "forests.fit(X_train, Y_train)\n",
    "rr=sklearn.metrics.log_loss(Y_test, forests.predict_proba(X_test))\n",
    "print(\"Min log_loss: {:0.2f};\".format(rr))"
   ]
  },
  {
   "cell_type": "code",
   "execution_count": null,
   "metadata": {
    "collapsed": true
   },
   "outputs": [],
   "source": []
  }
 ],
 "metadata": {
  "kernelspec": {
   "display_name": "Python 3",
   "language": "python",
   "name": "python3"
  },
  "language_info": {
   "codemirror_mode": {
    "name": "ipython",
    "version": 3
   },
   "file_extension": ".py",
   "mimetype": "text/x-python",
   "name": "python",
   "nbconvert_exporter": "python",
   "pygments_lexer": "ipython3",
   "version": "3.6.0"
  }
 },
 "nbformat": 4,
 "nbformat_minor": 2
}
