{
 "cells": [
  {
   "cell_type": "code",
   "execution_count": 1,
   "metadata": {
    "collapsed": true
   },
   "outputs": [],
   "source": [
    "import pandas as pd\n",
    "import numpy as np\n",
    "import time\n",
    "import datetime\n",
    "import sklearn.ensemble\n",
    "import sklearn.metrics\n",
    "import sklearn.preprocessing\n",
    "import sklearn.linear_model\n",
    "import matplotlib.pyplot as plt"
   ]
  },
  {
   "cell_type": "code",
   "execution_count": 2,
   "metadata": {
    "collapsed": false
   },
   "outputs": [
    {
     "data": {
      "text/html": [
       "<div>\n",
       "<table border=\"1\" class=\"dataframe\">\n",
       "  <thead>\n",
       "    <tr style=\"text-align: right;\">\n",
       "      <th></th>\n",
       "      <th>start_time</th>\n",
       "      <th>lobby_type</th>\n",
       "      <th>r1_hero</th>\n",
       "      <th>r1_level</th>\n",
       "      <th>r1_xp</th>\n",
       "      <th>r1_gold</th>\n",
       "      <th>r1_lh</th>\n",
       "      <th>r1_kills</th>\n",
       "      <th>r1_deaths</th>\n",
       "      <th>r1_items</th>\n",
       "      <th>...</th>\n",
       "      <th>dire_boots_count</th>\n",
       "      <th>dire_ward_observer_count</th>\n",
       "      <th>dire_ward_sentry_count</th>\n",
       "      <th>dire_first_ward_time</th>\n",
       "      <th>duration</th>\n",
       "      <th>radiant_win</th>\n",
       "      <th>tower_status_radiant</th>\n",
       "      <th>tower_status_dire</th>\n",
       "      <th>barracks_status_radiant</th>\n",
       "      <th>barracks_status_dire</th>\n",
       "    </tr>\n",
       "    <tr>\n",
       "      <th>match_id</th>\n",
       "      <th></th>\n",
       "      <th></th>\n",
       "      <th></th>\n",
       "      <th></th>\n",
       "      <th></th>\n",
       "      <th></th>\n",
       "      <th></th>\n",
       "      <th></th>\n",
       "      <th></th>\n",
       "      <th></th>\n",
       "      <th></th>\n",
       "      <th></th>\n",
       "      <th></th>\n",
       "      <th></th>\n",
       "      <th></th>\n",
       "      <th></th>\n",
       "      <th></th>\n",
       "      <th></th>\n",
       "      <th></th>\n",
       "      <th></th>\n",
       "      <th></th>\n",
       "    </tr>\n",
       "  </thead>\n",
       "  <tbody>\n",
       "    <tr>\n",
       "      <th>0</th>\n",
       "      <td>1430198770</td>\n",
       "      <td>7</td>\n",
       "      <td>11</td>\n",
       "      <td>5</td>\n",
       "      <td>2098</td>\n",
       "      <td>1489</td>\n",
       "      <td>20</td>\n",
       "      <td>0</td>\n",
       "      <td>0</td>\n",
       "      <td>7</td>\n",
       "      <td>...</td>\n",
       "      <td>4</td>\n",
       "      <td>2</td>\n",
       "      <td>2</td>\n",
       "      <td>-52.0</td>\n",
       "      <td>2874</td>\n",
       "      <td>1</td>\n",
       "      <td>1796</td>\n",
       "      <td>0</td>\n",
       "      <td>51</td>\n",
       "      <td>0</td>\n",
       "    </tr>\n",
       "    <tr>\n",
       "      <th>1</th>\n",
       "      <td>1430220345</td>\n",
       "      <td>0</td>\n",
       "      <td>42</td>\n",
       "      <td>4</td>\n",
       "      <td>1188</td>\n",
       "      <td>1033</td>\n",
       "      <td>9</td>\n",
       "      <td>0</td>\n",
       "      <td>1</td>\n",
       "      <td>12</td>\n",
       "      <td>...</td>\n",
       "      <td>4</td>\n",
       "      <td>3</td>\n",
       "      <td>1</td>\n",
       "      <td>-5.0</td>\n",
       "      <td>2463</td>\n",
       "      <td>1</td>\n",
       "      <td>1974</td>\n",
       "      <td>0</td>\n",
       "      <td>63</td>\n",
       "      <td>1</td>\n",
       "    </tr>\n",
       "    <tr>\n",
       "      <th>2</th>\n",
       "      <td>1430227081</td>\n",
       "      <td>7</td>\n",
       "      <td>33</td>\n",
       "      <td>4</td>\n",
       "      <td>1319</td>\n",
       "      <td>1270</td>\n",
       "      <td>22</td>\n",
       "      <td>0</td>\n",
       "      <td>0</td>\n",
       "      <td>12</td>\n",
       "      <td>...</td>\n",
       "      <td>4</td>\n",
       "      <td>3</td>\n",
       "      <td>1</td>\n",
       "      <td>13.0</td>\n",
       "      <td>2130</td>\n",
       "      <td>0</td>\n",
       "      <td>0</td>\n",
       "      <td>1830</td>\n",
       "      <td>0</td>\n",
       "      <td>63</td>\n",
       "    </tr>\n",
       "    <tr>\n",
       "      <th>3</th>\n",
       "      <td>1430263531</td>\n",
       "      <td>1</td>\n",
       "      <td>29</td>\n",
       "      <td>4</td>\n",
       "      <td>1779</td>\n",
       "      <td>1056</td>\n",
       "      <td>14</td>\n",
       "      <td>0</td>\n",
       "      <td>0</td>\n",
       "      <td>5</td>\n",
       "      <td>...</td>\n",
       "      <td>4</td>\n",
       "      <td>2</td>\n",
       "      <td>0</td>\n",
       "      <td>27.0</td>\n",
       "      <td>1459</td>\n",
       "      <td>0</td>\n",
       "      <td>1920</td>\n",
       "      <td>2047</td>\n",
       "      <td>50</td>\n",
       "      <td>63</td>\n",
       "    </tr>\n",
       "    <tr>\n",
       "      <th>4</th>\n",
       "      <td>1430282290</td>\n",
       "      <td>7</td>\n",
       "      <td>13</td>\n",
       "      <td>4</td>\n",
       "      <td>1431</td>\n",
       "      <td>1090</td>\n",
       "      <td>8</td>\n",
       "      <td>1</td>\n",
       "      <td>0</td>\n",
       "      <td>8</td>\n",
       "      <td>...</td>\n",
       "      <td>3</td>\n",
       "      <td>3</td>\n",
       "      <td>0</td>\n",
       "      <td>-16.0</td>\n",
       "      <td>2449</td>\n",
       "      <td>0</td>\n",
       "      <td>4</td>\n",
       "      <td>1974</td>\n",
       "      <td>3</td>\n",
       "      <td>63</td>\n",
       "    </tr>\n",
       "  </tbody>\n",
       "</table>\n",
       "<p>5 rows × 108 columns</p>\n",
       "</div>"
      ],
      "text/plain": [
       "          start_time  lobby_type  r1_hero  r1_level  r1_xp  r1_gold  r1_lh  \\\n",
       "match_id                                                                     \n",
       "0         1430198770           7       11         5   2098     1489     20   \n",
       "1         1430220345           0       42         4   1188     1033      9   \n",
       "2         1430227081           7       33         4   1319     1270     22   \n",
       "3         1430263531           1       29         4   1779     1056     14   \n",
       "4         1430282290           7       13         4   1431     1090      8   \n",
       "\n",
       "          r1_kills  r1_deaths  r1_items          ...           \\\n",
       "match_id                                         ...            \n",
       "0                0          0         7          ...            \n",
       "1                0          1        12          ...            \n",
       "2                0          0        12          ...            \n",
       "3                0          0         5          ...            \n",
       "4                1          0         8          ...            \n",
       "\n",
       "          dire_boots_count  dire_ward_observer_count  dire_ward_sentry_count  \\\n",
       "match_id                                                                       \n",
       "0                        4                         2                       2   \n",
       "1                        4                         3                       1   \n",
       "2                        4                         3                       1   \n",
       "3                        4                         2                       0   \n",
       "4                        3                         3                       0   \n",
       "\n",
       "          dire_first_ward_time  duration  radiant_win  tower_status_radiant  \\\n",
       "match_id                                                                      \n",
       "0                        -52.0      2874            1                  1796   \n",
       "1                         -5.0      2463            1                  1974   \n",
       "2                         13.0      2130            0                     0   \n",
       "3                         27.0      1459            0                  1920   \n",
       "4                        -16.0      2449            0                     4   \n",
       "\n",
       "          tower_status_dire  barracks_status_radiant  barracks_status_dire  \n",
       "match_id                                                                    \n",
       "0                         0                       51                     0  \n",
       "1                         0                       63                     1  \n",
       "2                      1830                        0                    63  \n",
       "3                      2047                       50                    63  \n",
       "4                      1974                        3                    63  \n",
       "\n",
       "[5 rows x 108 columns]"
      ]
     },
     "execution_count": 2,
     "metadata": {},
     "output_type": "execute_result"
    }
   ],
   "source": [
    "data=pd.read_csv('features.csv', index_col='match_id')\n",
    "data.head(5)"
   ]
  },
  {
   "cell_type": "code",
   "execution_count": 3,
   "metadata": {
    "collapsed": false
   },
   "outputs": [
    {
     "data": {
      "text/plain": [
       "first_blood_player2            43987\n",
       "radiant_flying_courier_time    27479\n",
       "dire_flying_courier_time       26098\n",
       "first_blood_player1            19553\n",
       "first_blood_team               19553\n",
       "first_blood_time               19553\n",
       "dire_bottle_time               16143\n",
       "radiant_bottle_time            15691\n",
       "radiant_first_ward_time         1836\n",
       "dire_first_ward_time            1826\n",
       "radiant_courier_time             692\n",
       "dire_courier_time                676\n",
       "dtype: int64"
      ]
     },
     "execution_count": 3,
     "metadata": {},
     "output_type": "execute_result"
    }
   ],
   "source": [
    "missing_data=data.isnull().sum()\n",
    "missing_data[missing_data>0].sort_values(ascending=False)"
   ]
  },
  {
   "cell_type": "markdown",
   "metadata": {},
   "source": [
    "***Пропуск данных***:\n",
    "***\n",
    "1. **first_blood_player2**: игры, в которых второй игрок не участвовал в совершении события \"первая кровь\".\n",
    "2. **radiant_flying_courier_time, dire_flying_courier_time**: эти значения указывают на то, что никто из игроков соотвествующей(radiant и dire) команды не купил предмет \"flying_courier\" в первые 5 минут.\n",
    "3. **first_blood_player1, first_blood_team, first_blood_time**: эти значения одинаковы и указывают на то, что в первые 5 минут вообще не произошло события \"первая кровь\".\n",
    "4. **dire_bottle_time, radiant_bottle_time**: эти значения указывают на то, что никто из соотвествующей(dire и radiant) команд не купил предмет \"bottle\" в первые 5 минут.\n",
    "5. **radiant_first_ward_time, dire_first_ward_time**: эти значения указывают на то, что никто из игроков соотвествующей(radiant и dire) команды не поставил \"наблюдателя\" в первые 5 минут.\n",
    "6. **radiant_courier_time, dire_courier_time**: эти значения указывают на то, что никто из игроков соотвествующей(radiant и dire) команды не купил предмет \"courier\" в первые 5 минут.\n",
    "***"
   ]
  },
  {
   "cell_type": "markdown",
   "metadata": {},
   "source": [
    "***\n",
    "**Целевой переменной является *radiant_win*, поскольку этот столбец описывает какая команда выиграла.** \n",
    "***"
   ]
  },
  {
   "cell_type": "code",
   "execution_count": 4,
   "metadata": {
    "collapsed": true
   },
   "outputs": [],
   "source": [
    "#удаляем признаки, связанные с итогами матча и разделяем данные на признаки и целевую переменную\n",
    "y=data['radiant_win']\n",
    "X=data.drop(['duration','radiant_win','tower_status_radiant',\n",
    "             'tower_status_dire','barracks_status_radiant','barracks_status_dire'],axis=1)\n",
    "#заменяем пустые значения\n",
    "X=X.fillna(0)"
   ]
  },
  {
   "cell_type": "markdown",
   "metadata": {},
   "source": [
    "# Градиентный бустинг \" в лоб\""
   ]
  },
  {
   "cell_type": "code",
   "execution_count": 5,
   "metadata": {
    "collapsed": true
   },
   "outputs": [],
   "source": [
    "kf=sklearn.model_selection.KFold(n_splits=5,random_state=241,shuffle=True)\n",
    "results=[]"
   ]
  },
  {
   "cell_type": "code",
   "execution_count": 6,
   "metadata": {
    "collapsed": false
   },
   "outputs": [
    {
     "name": "stdout",
     "output_type": "stream",
     "text": [
      "n_estimators: 5\n",
      "Time elapsed: 0:00:18.956424\n",
      "Mean score: 0.636\n",
      "n_estimators: 10\n",
      "Time elapsed: 0:00:28.958082\n",
      "Mean score: 0.664\n",
      "n_estimators: 20\n",
      "Time elapsed: 0:00:52.319463\n",
      "Mean score: 0.683\n",
      "n_estimators: 30\n",
      "Time elapsed: 0:01:14.397130\n",
      "Mean score: 0.689\n",
      "n_estimators: 40\n",
      "Time elapsed: 0:01:36.881645\n",
      "Mean score: 0.694\n",
      "n_estimators: 50\n",
      "Time elapsed: 0:01:59.188998\n",
      "Mean score: 0.697\n",
      "n_estimators: 100\n",
      "Time elapsed: 0:03:49.676233\n",
      "Mean score: 0.706\n",
      "n_estimators: 200\n",
      "Time elapsed: 0:07:31.185642\n",
      "Mean score: 0.714\n"
     ]
    }
   ],
   "source": [
    "number=[5,10,20,30,40,50,100,200]\n",
    "for i in number:\n",
    "    gb=sklearn.ensemble.GradientBoostingClassifier(n_estimators=i,random_state=241)\n",
    "    print('n_estimators: {:}'.format(i))\n",
    "    start_time = datetime.datetime.now()\n",
    "    cr_val=sklearn.model_selection.cross_val_score(gb,X,y,cv=kf,scoring='roc_auc',n_jobs=-1)    \n",
    "    print ('Time elapsed: {:}'.format(datetime.datetime.now() - start_time))\n",
    "    print ('Mean score: {:0.3}'.format(cr_val.mean()))\n",
    "    results.append(cr_val.mean())"
   ]
  },
  {
   "cell_type": "markdown",
   "metadata": {},
   "source": [
    "***\n",
    "**Кросс-валидация для градиентного бустинга с 30 деревьями заняла 1 минуту 14 секунд, метрика качества AUC-ROC составила 0.689**\n",
    "***"
   ]
  },
  {
   "cell_type": "markdown",
   "metadata": {},
   "source": [
    "***\n",
    "**При увеличении числа деревьев улучшается точность: так при 200 деревьях она равна 0.714, когда при 30 - всего 0.689. Но при этом сильно увеличивается время обучения. Поэтому необходимо выбирать что важнее: точность или скорость.**\n",
    "# Меры по ускорению обучения\n",
    "1. Использовать не всю выборку, а только некоторую её часть.\n",
    "2. Ограничить глубину деревьев(параметр max_depth).\n",
    "***"
   ]
  },
  {
   "cell_type": "markdown",
   "metadata": {},
   "source": [
    "# Логистическая регрессия"
   ]
  },
  {
   "cell_type": "code",
   "execution_count": 7,
   "metadata": {
    "collapsed": false
   },
   "outputs": [],
   "source": [
    "data=pd.read_csv('features.csv', index_col='match_id')\n",
    "#удаляем признаки, связанные с итогами матча и разделяем данные на признаки и целевую переменную\n",
    "y=data['radiant_win']\n",
    "X=data.drop(['duration','radiant_win','tower_status_radiant',\n",
    "             'tower_status_dire','barracks_status_radiant','barracks_status_dire'],axis=1)\n",
    "#заменяем пустые значения\n",
    "X=X.fillna(0)\n",
    "X=sklearn.preprocessing.StandardScaler().fit_transform(X)"
   ]
  },
  {
   "cell_type": "markdown",
   "metadata": {},
   "source": [
    "# Выбор лучшего параметра регуляризации "
   ]
  },
  {
   "cell_type": "code",
   "execution_count": 8,
   "metadata": {
    "collapsed": false
   },
   "outputs": [
    {
     "name": "stdout",
     "output_type": "stream",
     "text": [
      "C: 1e-05\n",
      "Time elapsed: 0:00:05.983838\n",
      "Mean score: 0.695\n",
      "C: 0.0001\n",
      "Time elapsed: 0:00:07.153638\n",
      "Mean score: 0.711\n",
      "C: 0.001\n",
      "Time elapsed: 0:00:10.607039\n",
      "Mean score: 0.716\n",
      "C: 0.01\n",
      "Time elapsed: 0:00:13.812741\n",
      "Mean score: 0.716\n",
      "C: 0.1\n",
      "Time elapsed: 0:00:13.594161\n",
      "Mean score: 0.716\n",
      "C: 1.0\n",
      "Time elapsed: 0:00:13.301381\n",
      "Mean score: 0.716\n",
      "C: 10.0\n",
      "Time elapsed: 0:00:13.410674\n",
      "Mean score: 0.716\n",
      "C: 100.0\n",
      "Time elapsed: 0:00:13.472836\n",
      "Mean score: 0.716\n",
      "C: 1000.0\n",
      "Time elapsed: 0:00:13.705457\n",
      "Mean score: 0.716\n",
      "C: 10000.0\n",
      "Time elapsed: 0:00:14.356586\n",
      "Mean score: 0.716\n",
      "C: 100000.0\n",
      "Time elapsed: 0:00:13.444115\n",
      "Mean score: 0.716\n"
     ]
    }
   ],
   "source": [
    "kf=sklearn.model_selection.KFold(n_splits=5,random_state=241,shuffle=True)\n",
    "arr=np.power(10.0, np.arange(-5, 6))\n",
    "results=[]\n",
    "for i in arr:\n",
    "    model = sklearn.linear_model.LogisticRegression(C=i, random_state=241, n_jobs=-1)\n",
    "    print('C: {:}'.format(i))\n",
    "    start_time = datetime.datetime.now()\n",
    "    cr_val=sklearn.model_selection.cross_val_score(model,X,y,cv=kf,scoring='roc_auc',n_jobs=-1)    \n",
    "    print ('Time elapsed: {:}'.format(datetime.datetime.now() - start_time))\n",
    "    print ('Mean score: {:0.3}'.format(cr_val.mean()))\n",
    "    results.append(cr_val.mean())    "
   ]
  },
  {
   "cell_type": "code",
   "execution_count": 9,
   "metadata": {
    "collapsed": false
   },
   "outputs": [
    {
     "name": "stdout",
     "output_type": "stream",
     "text": [
      "Best mean score: : 0.716341462186996\n",
      "Best C: 0.01\n"
     ]
    }
   ],
   "source": [
    "print ('Best mean score: : {:}'.format(max(results)))\n",
    "print ('Best C: {:0.3}'.format(arr[results.index(max(results))]))"
   ]
  },
  {
   "cell_type": "markdown",
   "metadata": {},
   "source": [
    "***\n",
    "**Лучший результат логистической регресии равен 0.716, что примерно равно результату при градиентном бустинге с 200 деревьями. При этом скорость логистической регресии намного выше: 14 секунд против 7 минут и 31 секунды.**\n",
    "***"
   ]
  },
  {
   "cell_type": "markdown",
   "metadata": {},
   "source": [
    "# Удаление категориальных признаков"
   ]
  },
  {
   "cell_type": "code",
   "execution_count": 10,
   "metadata": {
    "collapsed": false
   },
   "outputs": [],
   "source": [
    "X=data.drop(['duration','radiant_win','tower_status_radiant',\n",
    "             'tower_status_dire','barracks_status_radiant','barracks_status_dire'],axis=1)\n",
    "X=X.fillna(0)\n",
    "X=X.drop('lobby_type',axis=1)\n",
    "for i in range(1,6):\n",
    "    X=X.drop('r'+str(i)+'_hero',axis=1)\n",
    "    X=X.drop('d'+str(i)+'_hero',axis=1)\n",
    "X=sklearn.preprocessing.StandardScaler().fit_transform(X)    "
   ]
  },
  {
   "cell_type": "code",
   "execution_count": 11,
   "metadata": {
    "collapsed": false
   },
   "outputs": [
    {
     "name": "stdout",
     "output_type": "stream",
     "text": [
      "C: 1e-05\n",
      "Time elapsed: 0:00:05.762536\n",
      "Mean score: 0.695\n",
      "C: 0.0001\n",
      "Time elapsed: 0:00:06.757977\n",
      "Mean score: 0.711\n",
      "C: 0.001\n",
      "Time elapsed: 0:00:09.886298\n",
      "Mean score: 0.716\n",
      "C: 0.01\n",
      "Time elapsed: 0:00:12.974511\n",
      "Mean score: 0.716\n",
      "C: 0.1\n",
      "Time elapsed: 0:00:12.646639\n",
      "Mean score: 0.716\n",
      "C: 1.0\n",
      "Time elapsed: 0:00:12.696773\n",
      "Mean score: 0.716\n",
      "C: 10.0\n",
      "Time elapsed: 0:00:12.729861\n",
      "Mean score: 0.716\n",
      "C: 100.0\n",
      "Time elapsed: 0:00:12.906331\n",
      "Mean score: 0.716\n",
      "C: 1000.0\n",
      "Time elapsed: 0:00:13.332465\n",
      "Mean score: 0.716\n",
      "C: 10000.0\n",
      "Time elapsed: 0:00:13.308399\n",
      "Mean score: 0.716\n",
      "C: 100000.0\n",
      "Time elapsed: 0:00:12.704793\n",
      "Mean score: 0.716\n"
     ]
    }
   ],
   "source": [
    "cat_results=[]\n",
    "for i in arr:\n",
    "    model = sklearn.linear_model.LogisticRegression(C=i, random_state=241, n_jobs=-1)\n",
    "    print('C: {:}'.format(i))\n",
    "    start_time = datetime.datetime.now()\n",
    "    cr_val=sklearn.model_selection.cross_val_score(model,X,y,cv=kf,scoring='roc_auc',n_jobs=-1)    \n",
    "    print ('Time elapsed: {:}'.format(datetime.datetime.now() - start_time))\n",
    "    print ('Mean score: {:0.3}'.format(cr_val.mean()))\n",
    "    cat_results.append(cr_val.mean())   \n",
    "    "
   ]
  },
  {
   "cell_type": "code",
   "execution_count": 12,
   "metadata": {
    "collapsed": false
   },
   "outputs": [
    {
     "name": "stdout",
     "output_type": "stream",
     "text": [
      "Best mean score: : 0.7164009506527343\n",
      "Best C: 0.01\n"
     ]
    }
   ],
   "source": [
    "print ('Best mean score: : {:}'.format(max(cat_results)))\n",
    "print ('Best C: {:0.3}'.format(arr[cat_results.index(max(cat_results))]))"
   ]
  },
  {
   "cell_type": "markdown",
   "metadata": {},
   "source": [
    "***\n",
    "**Полученная метрика качества не отличается от предыдущей и равна 0.716, совпадает также и оптимальный параметр регуляризации С=0.01. То, что результат не изменился можно обьяснить тем, что алгоритмы библиотеки sklearn хорошо оптимизированы.**\n",
    "***"
   ]
  },
  {
   "cell_type": "markdown",
   "metadata": {},
   "source": [
    "# \"Мешок слов\""
   ]
  },
  {
   "cell_type": "code",
   "execution_count": 13,
   "metadata": {
    "collapsed": false
   },
   "outputs": [
    {
     "name": "stdout",
     "output_type": "stream",
     "text": [
      "Number of heroes: 112    3851\n",
      "Name: r5_hero, dtype: int64\n"
     ]
    }
   ],
   "source": [
    "#Вычисление количества героев\n",
    "X=data.drop(['duration','radiant_win','tower_status_radiant',\n",
    "             'tower_status_dire','barracks_status_radiant','barracks_status_dire'],axis=1)\n",
    "X=X.fillna(0)\n",
    "N=X['r5_hero'].value_counts().sort_index(ascending=False).head(1)\n",
    "print(\"Number of heroes: {:}\".format(N))"
   ]
  },
  {
   "cell_type": "code",
   "execution_count": 14,
   "metadata": {
    "collapsed": false
   },
   "outputs": [],
   "source": [
    "X_pick = np.zeros((X.shape[0], 112))\n",
    "for i, match_id in enumerate(X.index):\n",
    "    for p in range(1,5):\n",
    "        X_pick[i, X.ix[match_id, 'r%d_hero' % (p+1)]-1] = 1\n",
    "        X_pick[i, X.ix[match_id, 'd%d_hero' % (p+1)]-1] = -1  "
   ]
  },
  {
   "cell_type": "code",
   "execution_count": 15,
   "metadata": {
    "collapsed": false
   },
   "outputs": [],
   "source": [
    "X_h=pd.DataFrame(X_pick, index=X.index)\n",
    "for i in range(1,6):\n",
    "    X=X.drop('r'+str(i)+'_hero',axis=1)\n",
    "    X=X.drop('d'+str(i)+'_hero',axis=1)\n",
    "X=pd.DataFrame(sklearn.preprocessing.StandardScaler().fit_transform(X),index=X.index)\n",
    "X=pd.concat([X, X_h], axis=1)"
   ]
  },
  {
   "cell_type": "code",
   "execution_count": 16,
   "metadata": {
    "collapsed": false
   },
   "outputs": [
    {
     "name": "stdout",
     "output_type": "stream",
     "text": [
      "C: 1e-05\n",
      "Time elapsed: 0:00:07.096051\n",
      "Mean score: 0.698\n",
      "C: 0.0001\n",
      "Time elapsed: 0:00:08.172603\n",
      "Mean score: 0.72\n",
      "C: 0.001\n",
      "Time elapsed: 0:00:13.115889\n",
      "Mean score: 0.738\n",
      "C: 0.01\n",
      "Time elapsed: 0:00:19.757861\n",
      "Mean score: 0.743\n",
      "C: 0.1\n",
      "Time elapsed: 0:00:26.401189\n",
      "Mean score: 0.743\n",
      "C: 1.0\n",
      "Time elapsed: 0:00:29.208753\n",
      "Mean score: 0.743\n",
      "C: 10.0\n",
      "Time elapsed: 0:00:29.211702\n",
      "Mean score: 0.743\n",
      "C: 100.0\n",
      "Time elapsed: 0:00:28.408170\n",
      "Mean score: 0.743\n",
      "C: 1000.0\n",
      "Time elapsed: 0:00:29.160379\n",
      "Mean score: 0.743\n",
      "C: 10000.0\n",
      "Time elapsed: 0:00:30.440767\n",
      "Mean score: 0.743\n",
      "C: 100000.0\n",
      "Time elapsed: 0:00:30.102089\n",
      "Mean score: 0.743\n"
     ]
    }
   ],
   "source": [
    "bag_results=[]\n",
    "for i in arr:\n",
    "    model = sklearn.linear_model.LogisticRegression(C=i, random_state=241, n_jobs=-1)\n",
    "    print('C: {:}'.format(i))\n",
    "    start_time = datetime.datetime.now()\n",
    "    cr_val=sklearn.model_selection.cross_val_score(model,X,y,cv=kf,scoring='roc_auc',n_jobs=-1)    \n",
    "    print ('Time elapsed: {:}'.format(datetime.datetime.now() - start_time))\n",
    "    print ('Mean score: {:0.3}'.format(cr_val.mean()))\n",
    "    bag_results.append(cr_val.mean())   "
   ]
  },
  {
   "cell_type": "code",
   "execution_count": 17,
   "metadata": {
    "collapsed": false
   },
   "outputs": [
    {
     "name": "stdout",
     "output_type": "stream",
     "text": [
      "Best mean score: : 0.7432240032912947\n",
      "Best C: 0.1\n"
     ]
    }
   ],
   "source": [
    "print ('Best mean score: : {:}'.format(max(bag_results)))\n",
    "print ('Best C: {:0.3}'.format(arr[bag_results.index(max(bag_results))]))"
   ]
  },
  {
   "cell_type": "markdown",
   "metadata": {},
   "source": [
    "***\n",
    "**Использование \"мешка слов\" улучшило показатели: теперь лучший показатель равен 0.743. При этом C=0.1**\n",
    "**Выбор героя игроком можно отнести к важным признакам, но из-за того, что эти признаки были категориальные они не влияли на точность предсказания. Использование метода \"мешок слов\" позволило заменить этот шум на осмысленную разреженную матрицу, которую легко использовать с логистической регрессией**\n",
    "***"
   ]
  },
  {
   "cell_type": "markdown",
   "metadata": {},
   "source": [
    "# Тестовая выборка"
   ]
  },
  {
   "cell_type": "code",
   "execution_count": 18,
   "metadata": {
    "collapsed": false
   },
   "outputs": [
    {
     "data": {
      "text/plain": [
       "LogisticRegression(C=0.1, class_weight=None, dual=False, fit_intercept=True,\n",
       "          intercept_scaling=1, max_iter=100, multi_class='ovr', n_jobs=-1,\n",
       "          penalty='l2', random_state=241, solver='liblinear', tol=0.0001,\n",
       "          verbose=0, warm_start=False)"
      ]
     },
     "execution_count": 18,
     "metadata": {},
     "output_type": "execute_result"
    }
   ],
   "source": [
    "#Обучение\n",
    "model=sklearn.linear_model.LogisticRegression(C=0.1, random_state=241, n_jobs=-1)\n",
    "model.fit(X,y)"
   ]
  },
  {
   "cell_type": "code",
   "execution_count": 19,
   "metadata": {
    "collapsed": false
   },
   "outputs": [],
   "source": [
    "X_test=pd.read_csv('features_test.csv',index_col='match_id')\n",
    "X_test=X_test.fillna(0)\n",
    "\n",
    "X_tpick = np.zeros((X_test.shape[0], 112))\n",
    "for i, match_id in enumerate(X_test.index):\n",
    "    for p in range(1,5):\n",
    "        X_tpick[i, X_test.ix[match_id, 'r%d_hero' % (p+1)]-1] = 1\n",
    "        X_tpick[i, X_test.ix[match_id, 'd%d_hero' % (p+1)]-1] = -1  \n",
    "\n",
    "X_h=pd.DataFrame(X_tpick, index=X_test.index)\n",
    "for i in range(1,6):\n",
    "    X_test=X_test.drop('r'+str(i)+'_hero',axis=1)\n",
    "    X_test=X_test.drop('d'+str(i)+'_hero',axis=1)\n",
    "X_test=pd.DataFrame(sklearn.preprocessing.StandardScaler().fit_transform(X_test),index=X_test.index)\n",
    "X_test=pd.concat([X_test, X_h], axis=1)"
   ]
  },
  {
   "cell_type": "code",
   "execution_count": 20,
   "metadata": {
    "collapsed": false
   },
   "outputs": [
    {
     "name": "stdout",
     "output_type": "stream",
     "text": [
      "          radiant_win\n",
      "match_id             \n",
      "14176        0.995255\n",
      "          radiant_win\n",
      "match_id             \n",
      "33469        0.007968\n"
     ]
    }
   ],
   "source": [
    "y_test = model.predict_proba(X_test)[:, 1]\n",
    "y_test=pd.DataFrame({'radiant_win': y_test}, index=X_test.index)\n",
    "y_test.index.name='match_id'\n",
    "print(y_test.sort_values(by='radiant_win',ascending=False).head(1))\n",
    "print(y_test.sort_values(by='radiant_win').head(1))"
   ]
  },
  {
   "cell_type": "markdown",
   "metadata": {},
   "source": [
    "**Команда radiant имела наибольшый шанс(равен 0.9953) выиграть в матче 14176 и наименьший(равен 0.00797) в матче 33469**"
   ]
  }
 ],
 "metadata": {
  "kernelspec": {
   "display_name": "Python 3",
   "language": "python",
   "name": "python3"
  },
  "language_info": {
   "codemirror_mode": {
    "name": "ipython",
    "version": 3
   },
   "file_extension": ".py",
   "mimetype": "text/x-python",
   "name": "python",
   "nbconvert_exporter": "python",
   "pygments_lexer": "ipython3",
   "version": "3.6.0"
  }
 },
 "nbformat": 4,
 "nbformat_minor": 2
}
