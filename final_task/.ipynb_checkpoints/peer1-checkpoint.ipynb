{
 "cells": [
  {
   "cell_type": "code",
   "execution_count": 14,
   "metadata": {
    "collapsed": false,
    "deletable": true,
    "editable": true
   },
   "outputs": [
    {
     "name": "stdout",
     "output_type": "stream",
     "text": [
      "max:('start_time', 97230)\n",
      "('first_blood_time', 77677)\n",
      "('first_blood_team', 77677)\n",
      "('first_blood_player1', 77677)\n",
      "('first_blood_player2', 53243)\n",
      "('radiant_bottle_time', 81539)\n",
      "('radiant_courier_time', 96538)\n",
      "('radiant_flying_courier_time', 69751)\n",
      "('radiant_first_ward_time', 95394)\n",
      "('dire_bottle_time', 81087)\n",
      "('dire_courier_time', 96554)\n",
      "('dire_flying_courier_time', 71132)\n",
      "('dire_first_ward_time', 95404)\n"
     ]
    }
   ],
   "source": [
    "import pandas\n",
    "from sklearn.ensemble import RandomForestClassifier\n",
    "from sklearn.model_selection import KFold\n",
    "features = pandas.read_csv('./features.csv', index_col='match_id')\n",
    "from sklearn.model_selection import cross_val_score\n",
    "features.head()\n",
    "import time\n",
    "import datetime\n",
    "from sklearn.linear_model import LogisticRegression\n",
    "from sklearn.preprocessing import StandardScaler\n",
    "import numpy as np\n",
    "import sklearn.metrics as metr\n",
    "STS=StandardScaler()\n",
    "arr_key_count=[]\n",
    "for i in features:\n",
    "    arr_key_count.append((i,features[i].count()))\n",
    "max_elem=max(arr_key_count,key=lambda x: x[1])\n",
    "nan_elem_in_col= list(filter(lambda x: x[1] < max_elem[1],arr_key_count ))\n",
    "print(\"max:\"+str(max_elem))\n",
    "for i in nan_elem_in_col:\n",
    "    print(i)"
   ]
  },
  {
   "cell_type": "code",
   "execution_count": 15,
   "metadata": {
    "collapsed": false,
    "deletable": true,
    "editable": true
   },
   "outputs": [],
   "source": [
    "features.fillna(0.1, inplace=True)\n",
    "\n",
    "raiant_win=features['radiant_win']\n",
    "for i in ['duration','radiant_win','tower_status_radiant','tower_status_dire','barracks_status_radiant','barracks_status_dire']:\n",
    "    del features[i]"
   ]
  },
  {
   "cell_type": "code",
   "execution_count": 3,
   "metadata": {
    "collapsed": false,
    "deletable": true,
    "editable": true
   },
   "outputs": [
    {
     "name": "stdout",
     "output_type": "stream",
     "text": [
      "Time elapsed: 0:00:56.681360\n",
      "[ 0.6325404   0.627205    0.6282434   0.63817583  0.62680115]\n",
      "0.630593158449\n",
      "Time elapsed: 0:01:48.457216\n",
      "[ 0.65742892  0.6608009   0.65579113  0.64442908  0.65814742]\n",
      "0.655319491962\n",
      "Time elapsed: 0:02:40.016343\n",
      "[ 0.66810368  0.6687671   0.6697782   0.66922362  0.66736497]\n",
      "0.668647512383\n",
      "Time elapsed: 0:03:13.719199\n",
      "[ 0.67196624  0.67116229  0.6693353   0.67205007  0.6765998 ]\n",
      "0.672222739919\n",
      "Time elapsed: 0:03:44.606092\n",
      "[ 0.67252483  0.67403945  0.67591841  0.68529266  0.67338193]\n",
      "0.676231456934\n",
      "Time elapsed: 0:04:46.991077\n",
      "[ 0.67733347  0.68132099  0.68053577  0.68307462  0.6776651 ]\n",
      "0.67998599096\n"
     ]
    }
   ],
   "source": [
    "for i in [10,20,30,35,40,50]:\n",
    "    clf = RandomForestClassifier(n_estimators=i)\n",
    "    cv2 = KFold(n_splits=5, shuffle=True)\n",
    "    start_time = datetime.datetime.now()\n",
    "    scores = cross_val_score(clf, features, raiant_win, cv=cv2,scoring='roc_auc')\n",
    "    print ('Time elapsed:', datetime.datetime.now() - start_time)\n",
    "    print(scores)\n",
    "    print(scores.mean())"
   ]
  },
  {
   "cell_type": "code",
   "execution_count": 4,
   "metadata": {
    "collapsed": false
   },
   "outputs": [
    {
     "name": "stdout",
     "output_type": "stream",
     "text": [
      "auc_score 0.999999922675\n"
     ]
    }
   ],
   "source": [
    "clf = RandomForestClassifier(n_estimators=30)\n",
    "clf.fit(features,raiant_win.values)\n",
    "pred=clf.predict_proba(features)[:, 1]\n",
    "print(\"auc_score\",metr.roc_auc_score(raiant_win.values,pred))"
   ]
  },
  {
   "cell_type": "code",
   "execution_count": 5,
   "metadata": {
    "collapsed": false,
    "deletable": true,
    "editable": true
   },
   "outputs": [
    {
     "name": "stdout",
     "output_type": "stream",
     "text": [
      "Time elapsed: 0:00:31.735922\n",
      "[ 0.71755856  0.71297441  0.7155774   0.71758323  0.71801825]\n",
      "0.71634237104\n",
      "Time elapsed: 0:00:31.410091\n",
      "[ 0.71755873  0.71297477  0.71557587  0.71758245  0.71801751]\n",
      "0.716341866991\n",
      "Time elapsed: 0:00:30.886486\n",
      "[ 0.71755855  0.71297475  0.71557576  0.71758248  0.71801742]\n",
      "0.716341794979\n",
      "Time elapsed: 0:00:31.042472\n",
      "[ 0.71755838  0.71297452  0.71557586  0.71758254  0.71801715]\n",
      "0.716341689005\n",
      "Time elapsed: 0:00:31.137939\n",
      "[ 0.71755839  0.71297456  0.71557583  0.71758252  0.71801712]\n",
      "0.716341682653\n"
     ]
    }
   ],
   "source": [
    "V=STS.fit_transform(features)\n",
    "\n",
    "for i in [1,5,9,100,150]:\n",
    "    clf = LogisticRegression(C=i, penalty='l2',random_state=241)\n",
    "    cv2 = KFold(n_splits=5, shuffle=True,random_state=24)\n",
    "    start_time = datetime.datetime.now()\n",
    "    scores = cross_val_score(clf, V, raiant_win, cv=cv2,scoring='roc_auc')\n",
    "    print ('Time elapsed:', datetime.datetime.now() - start_time)\n",
    "    print(scores)\n",
    "    print(scores.mean())"
   ]
  },
  {
   "cell_type": "code",
   "execution_count": 16,
   "metadata": {
    "collapsed": false,
    "deletable": true,
    "editable": true
   },
   "outputs": [],
   "source": [
    "\n",
    "del features['lobby_type']\n",
    "for i in range(5):\n",
    "    del features['r'+str(1+i)+\"_hero\"]\n",
    "    del features['d'+str(1+i)+\"_hero\"]"
   ]
  },
  {
   "cell_type": "code",
   "execution_count": 17,
   "metadata": {
    "collapsed": false,
    "deletable": true,
    "editable": true
   },
   "outputs": [
    {
     "name": "stdout",
     "output_type": "stream",
     "text": [
      "[ 0.71762576  0.71303445  0.71562633  0.71759274  0.71817172]\n",
      "0.71641019887\n"
     ]
    }
   ],
   "source": [
    "V=STS.fit_transform(features)\n",
    "clf = LogisticRegression(C=100, penalty='l2',random_state=241)\n",
    "cv2 = KFold(n_splits=5, shuffle=True,random_state=24)\n",
    "start_time = datetime.datetime.now()\n",
    "scores = cross_val_score(clf, V, raiant_win, cv=cv2,scoring='roc_auc')\n",
    "print(scores)\n",
    "print(scores.mean())\n"
   ]
  },
  {
   "cell_type": "code",
   "execution_count": 18,
   "metadata": {
    "collapsed": false,
    "deletable": true,
    "editable": true
   },
   "outputs": [],
   "source": [
    "features = pandas.read_csv('./features.csv', index_col='match_id')\n",
    "features.fillna(0.1, inplace=True)\n",
    "raiant_win=features['radiant_win']\n",
    "for i in ['duration','radiant_win','tower_status_radiant','tower_status_dire','barracks_status_radiant','barracks_status_dire']:\n",
    "    del features[i]"
   ]
  },
  {
   "cell_type": "code",
   "execution_count": 19,
   "metadata": {
    "collapsed": false,
    "deletable": true,
    "editable": true
   },
   "outputs": [
    {
     "name": "stdout",
     "output_type": "stream",
     "text": [
      "(97230, 112)\n"
     ]
    }
   ],
   "source": [
    "X_pick = np.zeros((features.shape[0], 112))\n",
    "print(X_pick.shape)\n",
    "for i, match_id in enumerate(features.index):\n",
    "    for p in range(5):\n",
    "        X_pick[i, features.ix[match_id, 'r%d_hero' % (p+1)]-1] = 1\n",
    "        X_pick[i, features.ix[match_id, 'd%d_hero' % (p+1)]-1] = -1\n",
    "X_pick=pandas.DataFrame(X_pick,index=features.index)\n",
    "\n",
    "features=pandas.concat([features,X_pick],axis=1)"
   ]
  },
  {
   "cell_type": "code",
   "execution_count": 20,
   "metadata": {
    "collapsed": false,
    "deletable": true,
    "editable": true
   },
   "outputs": [],
   "source": [
    "del features['lobby_type']\n",
    "for i in range(5):\n",
    "    del features['r'+str(1+i)+\"_hero\"]\n",
    "    del features['d'+str(1+i)+\"_hero\"]\n",
    "\n",
    "\n"
   ]
  },
  {
   "cell_type": "code",
   "execution_count": 21,
   "metadata": {
    "collapsed": false,
    "deletable": true,
    "editable": true
   },
   "outputs": [
    {
     "name": "stdout",
     "output_type": "stream",
     "text": [
      "[ 0.75314075  0.75095226  0.74827505  0.7528298   0.75413361]\n",
      "0.751866294238\n"
     ]
    }
   ],
   "source": [
    "V=STS.fit_transform(features)\n",
    "clf = LogisticRegression(C=100, penalty='l2',random_state=241)\n",
    "cv2 = KFold(n_splits=5, shuffle=True,random_state=24)\n",
    "start_time = datetime.datetime.now()\n",
    "scores = cross_val_score(clf, V, raiant_win, cv=cv2,scoring='roc_auc')\n",
    "print(scores)\n",
    "print(scores.mean())"
   ]
  },
  {
   "cell_type": "code",
   "execution_count": 24,
   "metadata": {
    "collapsed": false,
    "deletable": true,
    "editable": true
   },
   "outputs": [
    {
     "name": "stdout",
     "output_type": "stream",
     "text": [
      "auc_score 0.754451755324\n",
      "0.998737327727 0.00131845456056\n"
     ]
    }
   ],
   "source": [
    "clf.fit(V,raiant_win.values)\n",
    "pred=clf.predict_proba(V)[:, 1]\n",
    "print(\"auc_score\",metr.roc_auc_score(raiant_win.values,pred))\n",
    "print(np.max(pred),np.min(pred))"
   ]
  },
  {
   "cell_type": "code",
   "execution_count": null,
   "metadata": {
    "collapsed": true
   },
   "outputs": [],
   "source": []
  }
 ],
 "metadata": {
  "kernelspec": {
   "display_name": "Python 3",
   "language": "python",
   "name": "python3"
  },
  "language_info": {
   "codemirror_mode": {
    "name": "ipython",
    "version": 3
   },
   "file_extension": ".py",
   "mimetype": "text/x-python",
   "name": "python",
   "nbconvert_exporter": "python",
   "pygments_lexer": "ipython3",
   "version": "3.6.0"
  }
 },
 "nbformat": 4,
 "nbformat_minor": 2
}
