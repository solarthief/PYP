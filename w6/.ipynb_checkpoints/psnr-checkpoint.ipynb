{
 "cells": [
  {
   "cell_type": "code",
   "execution_count": 43,
   "metadata": {
    "collapsed": true
   },
   "outputs": [],
   "source": [
    "from pandas import DataFrame, Series \n",
    "import pandas as pd\n",
    "import numpy as np\n",
    "import matplotlib.pyplot\n",
    "import pylab\n",
    "from skimage.io import imread,imsave\n",
    "import skimage\n",
    "import sklearn.cluster\n",
    "import math"
   ]
  },
  {
   "cell_type": "code",
   "execution_count": 44,
   "metadata": {
    "collapsed": false
   },
   "outputs": [],
   "source": [
    "%matplotlib inline\n",
    "image=skimage.img_as_float(imread('parrots.jpg'))\n",
    "w,h,d=image.shape\n",
    "data=DataFrame(np.reshape(image,(w*h,d)),columns=['R','G','B'])"
   ]
  },
  {
   "cell_type": "code",
   "execution_count": 47,
   "metadata": {
    "collapsed": false
   },
   "outputs": [
    {
     "name": "stderr",
     "output_type": "stream",
     "text": [
      "C:\\ProgramData\\Anaconda3\\lib\\site-packages\\skimage\\io\\_io.py:132: UserWarning: image/mean/cluster_1.jpg is a low contrast image\n",
      "  warn('%s is a low contrast image' % fname)\n",
      "C:\\ProgramData\\Anaconda3\\lib\\site-packages\\skimage\\util\\dtype.py:110: UserWarning: Possible precision loss when converting from float64 to uint8\n",
      "  \"%s to %s\" % (dtypeobj_in, dtypeobj))\n",
      "C:\\ProgramData\\Anaconda3\\lib\\site-packages\\skimage\\io\\_io.py:132: UserWarning: image/median/cluster_1.jpg is a low contrast image\n",
      "  warn('%s is a low contrast image' % fname)\n"
     ]
    },
    {
     "name": "stdout",
     "output_type": "stream",
     "text": [
      "Num of clusters: 1; PSNR(mean): 9.87 ; PSNR(median): 9.50\n",
      "Num of clusters: 2; PSNR(mean): 12.14 ; PSNR(median): 11.73\n",
      "Num of clusters: 3; PSNR(mean): 13.20 ; PSNR(median): 12.68\n",
      "Num of clusters: 4; PSNR(mean): 14.41 ; PSNR(median): 14.06\n",
      "Num of clusters: 5; PSNR(mean): 15.58 ; PSNR(median): 15.25\n",
      "Num of clusters: 6; PSNR(mean): 16.60 ; PSNR(median): 16.12\n",
      "Num of clusters: 7; PSNR(mean): 17.70 ; PSNR(median): 17.40\n",
      "Num of clusters: 8; PSNR(mean): 18.48 ; PSNR(median): 18.19\n",
      "Num of clusters: 9; PSNR(mean): 19.16 ; PSNR(median): 18.87\n",
      "Num of clusters: 10; PSNR(mean): 19.69 ; PSNR(median): 19.47\n",
      "Num of clusters: 11; PSNR(mean): 20.18 ; PSNR(median): 19.91\n",
      "Num of clusters: 12; PSNR(mean): 20.65 ; PSNR(median): 20.35\n",
      "Num of clusters: 13; PSNR(mean): 21.07 ; PSNR(median): 20.85\n",
      "Num of clusters: 14; PSNR(mean): 21.38 ; PSNR(median): 21.18\n",
      "Num of clusters: 15; PSNR(mean): 21.66 ; PSNR(median): 21.46\n",
      "Num of clusters: 16; PSNR(mean): 21.91 ; PSNR(median): 21.73\n",
      "Num of clusters: 17; PSNR(mean): 22.16 ; PSNR(median): 21.97\n",
      "Num of clusters: 18; PSNR(mean): 22.38 ; PSNR(median): 22.19\n",
      "Num of clusters: 19; PSNR(mean): 22.57 ; PSNR(median): 22.38\n",
      "Num of clusters: 20; PSNR(mean): 22.77 ; PSNR(median): 22.62\n",
      "Num of clusters: 21; PSNR(mean): 22.94 ; PSNR(median): 22.79\n",
      "Num of clusters: 22; PSNR(mean): 23.11 ; PSNR(median): 22.96\n",
      "Num of clusters: 23; PSNR(mean): 23.29 ; PSNR(median): 23.12\n",
      "Num of clusters: 24; PSNR(mean): 23.42 ; PSNR(median): 23.25\n"
     ]
    }
   ],
   "source": [
    "for k_clus in range(1,25):\n",
    "    datas=data.copy()\n",
    "    model=sklearn.cluster.KMeans(n_clusters=k_clus,init='k-means++',random_state=241)\n",
    "    datas['cluster']=model.fit_predict(datas)\n",
    "    \n",
    "    means=datas.groupby('cluster').mean().values\n",
    "    mean_data=[means[x] for x in datas['cluster'].values]\n",
    "    im_mean=np.reshape(mean_data,(w,h,d))\n",
    "    imsave('image/mean/cluster_'+str(k_clus)+'.jpg', im_mean)\n",
    "    psnr_mean=10*math.log10(1.0/(np.mean((image-im_mean)**2)))\n",
    "    \n",
    "    medians=datas.groupby('cluster').median().values\n",
    "    median_data=[medians[x] for x in datas['cluster'].values]\n",
    "    im_median=np.reshape(median_data,(w,h,d))\n",
    "    imsave('image/median/cluster_'+str(k_clus)+'.jpg', im_median)\n",
    "    psnr_median=10*math.log10(1.0/(np.mean((image-im_median)**2)))\n",
    "    \n",
    "    print(\"Num of clusters: {:}; PSNR(mean): {:.2f} ; PSNR(median): {:.2f}\".format(k_clus,psnr_mean,psnr_median))"
   ]
  },
  {
   "cell_type": "code",
   "execution_count": null,
   "metadata": {
    "collapsed": true
   },
   "outputs": [],
   "source": []
  }
 ],
 "metadata": {
  "kernelspec": {
   "display_name": "Python 3",
   "language": "python",
   "name": "python3"
  },
  "language_info": {
   "codemirror_mode": {
    "name": "ipython",
    "version": 3
   },
   "file_extension": ".py",
   "mimetype": "text/x-python",
   "name": "python",
   "nbconvert_exporter": "python",
   "pygments_lexer": "ipython3",
   "version": "3.6.0"
  }
 },
 "nbformat": 4,
 "nbformat_minor": 2
}
