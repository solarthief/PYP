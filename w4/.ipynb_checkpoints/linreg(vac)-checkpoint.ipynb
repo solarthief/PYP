{
 "cells": [
  {
   "cell_type": "code",
   "execution_count": 69,
   "metadata": {
    "collapsed": false
   },
   "outputs": [],
   "source": [
    "from pandas import DataFrame, Series \n",
    "import pandas as pd\n",
    "import numpy as np\n",
    "import matplotlib\n",
    "from scipy.sparse import hstack\n",
    "import sklearn.metrics\n",
    "import sklearn.linear_model\n",
    "from sklearn.feature_extraction import DictVectorizer\n",
    "from sklearn.feature_extraction.text import TfidfVectorizer"
   ]
  },
  {
   "cell_type": "code",
   "execution_count": 70,
   "metadata": {
    "collapsed": false
   },
   "outputs": [],
   "source": [
    "enc = DictVectorizer()\n",
    "data=pd.read_csv('salary-train.csv')\n",
    "data['FullDescription']=data['FullDescription'].str.lower()\n",
    "data['FullDescription']=data['FullDescription'].replace('[^a-zA-Z0-9]',' ',regex=True)"
   ]
  },
  {
   "cell_type": "code",
   "execution_count": 71,
   "metadata": {
    "collapsed": false
   },
   "outputs": [],
   "source": [
    "vectorizer=TfidfVectorizer(min_df=5)\n",
    "X_train_text = vectorizer.fit_transform(data['FullDescription'])"
   ]
  },
  {
   "cell_type": "code",
   "execution_count": 72,
   "metadata": {
    "collapsed": true
   },
   "outputs": [],
   "source": [
    "data['LocationNormalized'].fillna('nan', inplace=True)\n",
    "data['ContractTime'].fillna('nan', inplace=True)\n",
    "X_train_categ = enc.fit_transform(data[['LocationNormalized', 'ContractTime']].to_dict('records'))"
   ]
  },
  {
   "cell_type": "code",
   "execution_count": 73,
   "metadata": {
    "collapsed": false
   },
   "outputs": [],
   "source": [
    "X_train=hstack([X_train_text,X_train_categ])\n",
    "Y_train=data['SalaryNormalized']"
   ]
  },
  {
   "cell_type": "code",
   "execution_count": 74,
   "metadata": {
    "collapsed": false
   },
   "outputs": [
    {
     "data": {
      "text/plain": [
       "Ridge(alpha=1, copy_X=True, fit_intercept=True, max_iter=None,\n",
       "   normalize=False, random_state=241, solver='auto', tol=0.001)"
      ]
     },
     "execution_count": 74,
     "metadata": {},
     "output_type": "execute_result"
    }
   ],
   "source": [
    "model=sklearn.linear_model.Ridge(alpha=1,random_state=241)\n",
    "model.fit(X_train,Y_train)"
   ]
  },
  {
   "cell_type": "code",
   "execution_count": 75,
   "metadata": {
    "collapsed": false
   },
   "outputs": [],
   "source": [
    "test = pd.read_csv('salary-test-mini.csv')\n",
    "test['FullDescription']=test['FullDescription'].str.lower()\n",
    "test['FullDescription']=test['FullDescription'].replace('[^a-zA-Z0-9]',' ',regex=True)"
   ]
  },
  {
   "cell_type": "code",
   "execution_count": 76,
   "metadata": {
    "collapsed": false
   },
   "outputs": [],
   "source": [
    "X_test_text = vectorizer.transform(test['FullDescription'])\n",
    "X_test_categ = enc.transform(test[['LocationNormalized', 'ContractTime']].to_dict('records'))\n",
    "X_test=hstack([X_test_text,X_test_categ])"
   ]
  },
  {
   "cell_type": "code",
   "execution_count": 79,
   "metadata": {
    "collapsed": false
   },
   "outputs": [
    {
     "name": "stdout",
     "output_type": "stream",
     "text": [
      "Salary: 56555.62\n",
      "Salary: 37188.32\n"
     ]
    }
   ],
   "source": [
    "Y_test=model.predict(X_test)\n",
    "for i in Y_test:\n",
    "    print(\"Salary: {:7.2f}\".format(i))"
   ]
  },
  {
   "cell_type": "code",
   "execution_count": null,
   "metadata": {
    "collapsed": true
   },
   "outputs": [],
   "source": []
  }
 ],
 "metadata": {
  "kernelspec": {
   "display_name": "Python 3",
   "language": "python",
   "name": "python3"
  },
  "language_info": {
   "codemirror_mode": {
    "name": "ipython",
    "version": 3
   },
   "file_extension": ".py",
   "mimetype": "text/x-python",
   "name": "python",
   "nbconvert_exporter": "python",
   "pygments_lexer": "ipython3",
   "version": "3.6.0"
  }
 },
 "nbformat": 4,
 "nbformat_minor": 2
}
