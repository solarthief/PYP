{
 "cells": [
  {
   "cell_type": "code",
   "execution_count": 4,
   "metadata": {
    "collapsed": true
   },
   "outputs": [],
   "source": [
    "from pandas import DataFrame, Series \n",
    "import pandas as pd\n",
    "import numpy as np\n",
    "import matplotlib\n",
    "import sklearn.decomposition"
   ]
  },
  {
   "cell_type": "code",
   "execution_count": 13,
   "metadata": {
    "collapsed": false
   },
   "outputs": [],
   "source": [
    "prices=pd.read_csv('close_prices.csv').drop('date',axis=1)\n",
    "dates=pd.read_csv('close_prices.csv')['date']\n",
    "pca=sklearn.decomposition.PCA(n_components=10)"
   ]
  },
  {
   "cell_type": "code",
   "execution_count": 21,
   "metadata": {
    "collapsed": false
   },
   "outputs": [
    {
     "name": "stdout",
     "output_type": "stream",
     "text": [
      "Needed:  4\n"
     ]
    }
   ],
   "source": [
    "pca.fit_transform(prices)\n",
    "m=0\n",
    "num=1\n",
    "for i in pca.explained_variance_ratio_:\n",
    "    m+=i\n",
    "    if m>0.9:\n",
    "        break\n",
    "    num+=1    \n",
    "print(\"Needed: {:2d}\".format(num))"
   ]
  },
  {
   "cell_type": "code",
   "execution_count": 28,
   "metadata": {
    "collapsed": false
   },
   "outputs": [
    {
     "data": {
      "text/plain": [
       "0     -50.902404\n",
       "1     -52.846909\n",
       "2     -54.614439\n",
       "3     -52.600566\n",
       "4     -52.370123\n",
       "5     -54.653412\n",
       "6     -52.812575\n",
       "7     -53.651146\n",
       "8     -56.692727\n",
       "9     -54.402655\n",
       "10    -58.331645\n",
       "11    -61.716265\n",
       "12    -61.319400\n",
       "13    -53.792524\n",
       "14    -50.892634\n",
       "15    -49.637408\n",
       "16    -52.387615\n",
       "17    -47.478543\n",
       "18    -43.560335\n",
       "19    -42.559280\n",
       "20    -42.450271\n",
       "21    -42.271248\n",
       "22    -43.252728\n",
       "23    -40.059345\n",
       "24    -38.497263\n",
       "25    -39.064923\n",
       "26    -38.393044\n",
       "27    -38.400558\n",
       "28    -42.386170\n",
       "29    -39.830574\n",
       "         ...    \n",
       "344    67.607802\n",
       "345    74.206256\n",
       "346    71.305000\n",
       "347    68.041973\n",
       "348    70.268799\n",
       "349    71.435269\n",
       "350    76.342232\n",
       "351    74.859336\n",
       "352    76.322836\n",
       "353    75.621858\n",
       "354    75.403574\n",
       "355    80.946849\n",
       "356    82.097270\n",
       "357    83.045140\n",
       "358    83.048730\n",
       "359    84.251636\n",
       "360    81.085307\n",
       "361    88.953955\n",
       "362    85.514365\n",
       "363    83.441017\n",
       "364    84.579747\n",
       "365    77.973512\n",
       "366    81.468090\n",
       "367    72.450565\n",
       "368    72.456036\n",
       "369    81.290980\n",
       "370    77.903534\n",
       "371    83.798199\n",
       "372    79.195789\n",
       "373    82.968859\n",
       "Name: 0, dtype: float64"
      ]
     },
     "execution_count": 28,
     "metadata": {},
     "output_type": "execute_result"
    }
   ],
   "source": [
    "arr=DataFrame(pca.transform(prices))\n",
    "comp0=arr[0]"
   ]
  },
  {
   "cell_type": "code",
   "execution_count": 30,
   "metadata": {
    "collapsed": false
   },
   "outputs": [
    {
     "data": {
      "text/plain": [
       "array([[ 1.        ,  0.90965222],\n",
       "       [ 0.90965222,  1.        ]])"
      ]
     },
     "execution_count": 30,
     "metadata": {},
     "output_type": "execute_result"
    }
   ],
   "source": [
    "djia_indexes=pd.read_csv('djia_index.csv')['^DJI']\n",
    "corr=np.corrcoef(comp0,djia_indexes)\n",
    "corr"
   ]
  },
  {
   "cell_type": "code",
   "execution_count": 40,
   "metadata": {
    "collapsed": false
   },
   "outputs": [
    {
     "data": {
      "text/plain": [
       "'V'"
      ]
     },
     "execution_count": 40,
     "metadata": {},
     "output_type": "execute_result"
    }
   ],
   "source": [
    "comp0_weight=Series(pca.components_[0])\n",
    "comp0_highest_weight=comp0_weight.sort_values(ascending=False).head(1).index[0]\n",
    "prices.columns[comp0_highest_weight]"
   ]
  },
  {
   "cell_type": "code",
   "execution_count": null,
   "metadata": {
    "collapsed": true
   },
   "outputs": [],
   "source": []
  }
 ],
 "metadata": {
  "kernelspec": {
   "display_name": "Python 3",
   "language": "python",
   "name": "python3"
  },
  "language_info": {
   "codemirror_mode": {
    "name": "ipython",
    "version": 3
   },
   "file_extension": ".py",
   "mimetype": "text/x-python",
   "name": "python",
   "nbconvert_exporter": "python",
   "pygments_lexer": "ipython3",
   "version": "3.6.0"
  }
 },
 "nbformat": 4,
 "nbformat_minor": 2
}
