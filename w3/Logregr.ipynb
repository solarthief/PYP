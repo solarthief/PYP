{
 "cells": [
  {
   "cell_type": "code",
   "execution_count": 15,
   "metadata": {
    "collapsed": true
   },
   "outputs": [],
   "source": [
    "from pandas import DataFrame, Series \n",
    "import pandas as pd\n",
    "import numpy as np\n",
    "import matplotlib\n",
    "import math\n",
    "import sklearn.metrics"
   ]
  },
  {
   "cell_type": "code",
   "execution_count": 16,
   "metadata": {
    "collapsed": false
   },
   "outputs": [],
   "source": [
    "data=pd.read_csv('data-logistic.csv', header = None)\n",
    "y=data[0]\n",
    "X=data.loc[:,1:]"
   ]
  },
  {
   "cell_type": "code",
   "execution_count": 55,
   "metadata": {
    "collapsed": true
   },
   "outputs": [],
   "source": [
    "def dw1(w1,w2,y,X,C,k):\n",
    "    n=len(y)\n",
    "    buf=0\n",
    "    for i in range(0,n):\n",
    "        buf+=y[i]*X[1][i]*(1.0-1.0/(1.0+math.exp(-y[i]*(w1*X[1][i]+w2*X[2][i]))))\n",
    "    return w1+k*(1.0/n)*buf-k*C*w1   "
   ]
  },
  {
   "cell_type": "code",
   "execution_count": 56,
   "metadata": {
    "collapsed": true
   },
   "outputs": [],
   "source": [
    "def dw2(w1,w2,y,X,C,k):\n",
    "    n=len(y)\n",
    "    buf=0\n",
    "    for i in range(0,n):\n",
    "        buf+=y[i]*X[2][i]*(1.0-1.0/(1.0+math.exp(-y[i]*(w1*X[1][i]+w2*X[2][i]))))\n",
    "    return w2+k*(1.0/n)*buf-k*C*w2 "
   ]
  },
  {
   "cell_type": "code",
   "execution_count": 57,
   "metadata": {
    "collapsed": true
   },
   "outputs": [],
   "source": [
    "def grad_desc(y,X,C=0.0,k=0.1):\n",
    "    max_i=10000\n",
    "    w1,w2=0,0\n",
    "    \n",
    "    for i in range(max_i):\n",
    "        nw1,nw2=dw1(w1,w2,y,X,C,k),dw2(w1,w2,y,X,C,k)\n",
    "        err=math.sqrt((nw1-w1)**2+(nw2-w2)**2)\n",
    "        if err<10**-5:\n",
    "            break\n",
    "        w1,w2=nw1,nw2        \n",
    "    return (w1,w2)"
   ]
  },
  {
   "cell_type": "code",
   "execution_count": 75,
   "metadata": {
    "collapsed": false
   },
   "outputs": [],
   "source": [
    "w1,w2=grad_desc(y,X,k=0.5)\n",
    "#reg_w1,reg_w2=grad_desc(y,X,C=10.0,k=0.3)"
   ]
  },
  {
   "cell_type": "code",
   "execution_count": 76,
   "metadata": {
    "collapsed": false
   },
   "outputs": [],
   "source": [
    "y_score=X.apply((lambda x: 1.0/ (1 + math.exp(-w1*x[1] - w2*x[2]))), axis=1)\n",
    "#reg_y_score=X.apply((lambda x: 1.0/ (1 + math.exp(-reg_w1*x[1] - reg_w2*x[2]))), axis=1)"
   ]
  },
  {
   "cell_type": "code",
   "execution_count": 77,
   "metadata": {
    "collapsed": false
   },
   "outputs": [
    {
     "name": "stdout",
     "output_type": "stream",
     "text": [
      "0.927\n"
     ]
    }
   ],
   "source": [
    "print(\"{:0.3f}\".format(sklearn.metrics.roc_auc_score(y,y_score)))\n",
    "#print(\"{:0.3f}\".format(sklearn.metrics.roc_auc_score(y,reg_y_score)))"
   ]
  },
  {
   "cell_type": "code",
   "execution_count": null,
   "metadata": {
    "collapsed": true
   },
   "outputs": [],
   "source": []
  }
 ],
 "metadata": {
  "kernelspec": {
   "display_name": "Python 3",
   "language": "python",
   "name": "python3"
  },
  "language_info": {
   "codemirror_mode": {
    "name": "ipython",
    "version": 3
   },
   "file_extension": ".py",
   "mimetype": "text/x-python",
   "name": "python",
   "nbconvert_exporter": "python",
   "pygments_lexer": "ipython3",
   "version": "3.6.0"
  }
 },
 "nbformat": 4,
 "nbformat_minor": 2
}
