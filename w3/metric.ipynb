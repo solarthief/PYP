{
 "cells": [
  {
   "cell_type": "code",
   "execution_count": 1,
   "metadata": {
    "collapsed": true
   },
   "outputs": [],
   "source": [
    "from pandas import DataFrame, Series \n",
    "import pandas as pd\n",
    "import numpy as np\n",
    "import matplotlib\n",
    "import math\n",
    "import sklearn.metrics"
   ]
  },
  {
   "cell_type": "code",
   "execution_count": 37,
   "metadata": {
    "collapsed": false
   },
   "outputs": [
    {
     "data": {
      "text/html": [
       "<div>\n",
       "<table border=\"1\" class=\"dataframe\">\n",
       "  <thead>\n",
       "    <tr style=\"text-align: right;\">\n",
       "      <th></th>\n",
       "      <th>AP</th>\n",
       "      <th>AN</th>\n",
       "    </tr>\n",
       "  </thead>\n",
       "  <tbody>\n",
       "    <tr>\n",
       "      <th>PP</th>\n",
       "      <td>43</td>\n",
       "      <td>34</td>\n",
       "    </tr>\n",
       "    <tr>\n",
       "      <th>PN</th>\n",
       "      <td>59</td>\n",
       "      <td>64</td>\n",
       "    </tr>\n",
       "  </tbody>\n",
       "</table>\n",
       "</div>"
      ],
      "text/plain": [
       "    AP  AN\n",
       "PP  43  34\n",
       "PN  59  64"
      ]
     },
     "execution_count": 37,
     "metadata": {},
     "output_type": "execute_result"
    }
   ],
   "source": [
    "data=pd.read_csv('classification.csv')\n",
    "test=data.groupby(data.columns.tolist()).size()\n",
    "t=test.values\n",
    "error_table=DataFrame([[t[3],t[1]],[t[2],t[0]]],index=['PP','PN'],columns=['AP','AN'])\n",
    "error_table"
   ]
  },
  {
   "cell_type": "code",
   "execution_count": 44,
   "metadata": {
    "collapsed": false
   },
   "outputs": [
    {
     "name": "stdout",
     "output_type": "stream",
     "text": [
      "Accuracy: 0.54; Precision: 0.56; Recall: 0.42; F-score: 0.48\n"
     ]
    }
   ],
   "source": [
    "acc=sklearn.metrics.accuracy_score(data['true'],data['pred'])\n",
    "prec=sklearn.metrics.precision_score(data['true'],data['pred'])\n",
    "rec=sklearn.metrics.recall_score(data['true'],data['pred'])\n",
    "f_score=sklearn.metrics.f1_score(data['true'],data['pred'])\n",
    "print(\"Accuracy: {:0.2f}; Precision: {:0.2f}; \\\n",
    "Recall: {:0.2f}; F-score: {:0.2f}\".format(acc,prec,rec,f_score))"
   ]
  },
  {
   "cell_type": "code",
   "execution_count": 79,
   "metadata": {
    "collapsed": false
   },
   "outputs": [
    {
     "name": "stdout",
     "output_type": "stream",
     "text": [
      "score_logreg: 0.72;\n",
      "score_svm: 0.71;\n",
      "score_knn: 0.64;\n",
      "score_tree: 0.69;\n"
     ]
    }
   ],
   "source": [
    "scores=pd.read_csv(\"scores.csv\")\n",
    "methods=['score_logreg','score_svm','score_knn','score_tree']\n",
    "for i in methods:\n",
    "    print(i+\": {:0.2f};\".format(sklearn.metrics.roc_auc_score(scores['true'],scores[i])))"
   ]
  },
  {
   "cell_type": "code",
   "execution_count": 78,
   "metadata": {
    "collapsed": false
   },
   "outputs": [
    {
     "name": "stdout",
     "output_type": "stream",
     "text": [
      "score_logreg: 0.63;\n",
      "score_svm: 0.62;\n",
      "score_knn: 0.61;\n",
      "score_tree: 0.65;\n"
     ]
    }
   ],
   "source": [
    "methods=['score_logreg','score_svm','score_knn','score_tree']\n",
    "for i in methods:\n",
    "    curve_logreg=sklearn.metrics.precision_recall_curve(scores['true'],scores[i])\n",
    "    c_log=DataFrame.from_records(curve_logreg,index=['Prec','Recall','Thres']).transpose()\n",
    "    print(i+\": {:0.2f};\".format(c_log[c_log['Recall']>0.7]['Prec'].max()))"
   ]
  },
  {
   "cell_type": "code",
   "execution_count": null,
   "metadata": {
    "collapsed": true
   },
   "outputs": [],
   "source": []
  }
 ],
 "metadata": {
  "kernelspec": {
   "display_name": "Python 3",
   "language": "python",
   "name": "python3"
  },
  "language_info": {
   "codemirror_mode": {
    "name": "ipython",
    "version": 3
   },
   "file_extension": ".py",
   "mimetype": "text/x-python",
   "name": "python",
   "nbconvert_exporter": "python",
   "pygments_lexer": "ipython3",
   "version": "3.6.0"
  }
 },
 "nbformat": 4,
 "nbformat_minor": 2
}
